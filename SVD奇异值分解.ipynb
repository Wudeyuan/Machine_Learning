{
 "cells": [
  {
   "cell_type": "code",
   "execution_count": 12,
   "metadata": {
    "collapsed": true,
    "pycharm": {
     "name": "#%%\n"
    }
   },
   "outputs": [
    {
     "name": "stdout",
     "output_type": "stream",
     "text": [
      "奇异矩阵：\n",
      " [1.00000000e+01 2.82797782e-16]\n",
      "构建近似原数据：\n",
      " [[1. 1.]\n",
      " [7. 7.]]\n"
     ]
    }
   ],
   "source": [
    "#..........................案例1:\n",
    "#.......................... SVD简化数据（矩阵分解的一种类型）\n",
    "#..........矩阵分解：Data(mxn)=U(mxm)Σ(mxn)VT(nxn)，Σ矩阵只有对角元素，这些元素就是奇异值\n",
    "#..........PCA是特征值，Σ是Data*DataT的特征值的平方根\n",
    "import numpy as np\n",
    "U,Sigma,VT=np.linalg.svd([[1,1],[7,7]])\n",
    "# 这里Sigma不是矩阵，是因为numpy的空间节省机制\n",
    "print('奇异矩阵：\\n',Sigma)\n",
    "# 新数据来近似 Data(mxn)=U(mx1)Σ(1x1)VT(1xn)\n",
    "# 试图构建原数据\n",
    "print('构建近似原数据：\\n',U[:,:1]*Sigma[0]*VT[:1,:])\n",
    "# 可以用“将奇异值的平方和累加到总值的90%”的原则来取主要数据"
   ]
  },
  {
   "cell_type": "code",
   "execution_count": 13,
   "outputs": [],
   "source": [
    "#..........................案例2:\n",
    "#.......................... 基于协同过滤的推荐引擎\n",
    "#.........可以基于物品或者基于用户计算相似度，看哪个少，一般基于物品\n",
    "#.........相似度：Pearson相关系数、1/（1+欧式距离）、余弦相似度\n",
    "# 相似度\n",
    "import numpy as np\n",
    "def ecludSim(inA,inB): # 欧氏距离\n",
    "    return 1.0/(1.0 + np.linalg.norm(inA - inB))\n",
    "def pearsSim(inA,inB): # 相关系数\n",
    "    if len(inA) < 3 : return 1.0\n",
    "    return 0.5+0.5*np.corrcoef(inA, inB, rowvar = 0)[0][1]\n",
    "def cosSim(inA,inB): # 余弦距离\n",
    "    num = float(inA.T*inB)\n",
    "    denom = np.linalg.norm(inA)*np.linalg.norm(inB)\n",
    "    return 0.5+0.5*(num/denom)"
   ],
   "metadata": {
    "collapsed": false,
    "pycharm": {
     "name": "#%%\n"
    }
   }
  },
  {
   "cell_type": "code",
   "execution_count": 33,
   "outputs": [
    {
     "name": "stdout",
     "output_type": "stream",
     "text": [
      "the 1 and 0 similarity is: 1.000000\n",
      "the 1 and 3 similarity is: 0.928746\n",
      "the 1 and 4 similarity is: 1.000000\n",
      "the 2 and 0 similarity is: 1.000000\n",
      "the 2 and 3 similarity is: 1.000000\n",
      "the 2 and 4 similarity is: 0.000000\n",
      "第1行用户（物品1、2）:\n",
      " [(2, 3.5), (1, 3.341443007335209)]\n",
      "总平方和： 541.9999999999994\n",
      "取前3个 0.9234322677630624\n",
      "SVD结果：\n",
      " [(4, 3.344714938469228), (7, 3.3294020724526967), (9, 3.3281008763900686)]\n"
     ]
    }
   ],
   "source": [
    "#..........................案例3:\n",
    "#.......................... 推荐菜肴\n",
    "Mat=np.mat([[0, 0, 0, 2, 2],[0, 0, 0, 3, 3],[0, 0, 0, 1, 1],\n",
    "           [1, 1, 1, 0, 0],[2, 2, 2, 0, 0],[5, 5, 5, 0, 0],[1, 1, 1, 0, 0]])\n",
    "Mat[0,1]=Mat[0,0]=Mat[1,0]=Mat[2,0]=4\n",
    "Mat[3,3]=2\n",
    "def standEst(dataMat, user, simMeas, item):\n",
    "    n = np.shape(dataMat)[1]\n",
    "    simTotal = 0.0; ratSimTotal = 0.0\n",
    "    for j in range(n):\n",
    "        userRating = dataMat[user,j]\n",
    "        if userRating == 0: continue\n",
    "        overLap = np.nonzero(np.logical_and(dataMat[:,item].A>0,dataMat[:,j].A>0))[0]\n",
    "        if len(overLap) == 0: similarity = 0\n",
    "        else: similarity = simMeas(dataMat[overLap,item],dataMat[overLap,j])\n",
    "        print('the %d and %d similarity is: %f' % (item, j, similarity))\n",
    "        simTotal += similarity\n",
    "        ratSimTotal += similarity * userRating\n",
    "    if simTotal == 0: return 0\n",
    "    else: return ratSimTotal/simTotal\n",
    "# SVD\n",
    "def svdEst(dataMat, user, simMeas, item, nd=4):\n",
    "    n = np.shape(dataMat)[1]\n",
    "    simTotal = 0.0; ratSimTotal = 0.0\n",
    "    U,Sigma,VT = np.linalg.svd(dataMat)\n",
    "    Sig4 = np.mat(np.eye(nd)*Sigma[:nd]) #arrange Sig4 into a diagonal matrix\n",
    "    xformedItems = dataMat.T * U[:,:nd] * Sig4.I  #create transformed items\n",
    "    for j in range(n):\n",
    "        userRating = dataMat[user,j]\n",
    "        if userRating == 0 or j==item: continue\n",
    "        similarity = simMeas(xformedItems[item,:].T,xformedItems[j,:].T)\n",
    "        # print('the %d and %d similarity is: %f' % (item, j, similarity))\n",
    "        simTotal += similarity\n",
    "        ratSimTotal += similarity * userRating\n",
    "    if simTotal == 0: return 0\n",
    "    else: return ratSimTotal/simTotal\n",
    "def recommend(dataMat, user, N=3, simMeas=cosSim, estMethod=standEst):\n",
    "    # N最高推荐数\n",
    "    unratedItems = np.nonzero(dataMat[user,:].A==0)[1]#find unrated items\n",
    "    if len(unratedItems) == 0: return 'you rated everything'\n",
    "    itemScores = []\n",
    "    for item in unratedItems:\n",
    "        estimatedScore = estMethod(dataMat, user, simMeas, item)\n",
    "        itemScores.append((item, estimatedScore))\n",
    "    return sorted(itemScores, key=lambda jj: jj[1], reverse=True)[:N]\n",
    "print('第1行用户（物品1、2）:\\n',recommend(Mat,1))\n",
    "\n",
    "Mat2=np.mat([[0, 0, 0, 0, 0, 4, 0, 0, 0, 0, 5],[0, 0, 0, 3, 0, 4, 0, 0, 0, 0, 3],\n",
    "           [0, 0, 0, 0, 4, 0, 0, 1, 0, 4, 0],[3, 3, 4, 0, 0, 0, 0, 2, 2, 0, 0],\n",
    "           [5, 4, 5, 0, 0, 0, 0, 5, 5, 0, 0],[0, 0, 0, 0, 5, 0, 1, 0, 0, 5, 0],\n",
    "           [4, 3, 4, 0, 0, 0, 0, 5, 5, 0, 1],[0, 0, 0, 4, 0, 4, 0, 0, 0, 0, 4],\n",
    "           [0, 0, 0, 2, 0, 2, 5, 0, 0, 1, 2],[0, 0, 0, 0, 5, 0, 0, 0, 0, 4, 0],\n",
    "           [1, 0, 0, 0, 0, 0, 0, 1, 2, 0, 0]])\n",
    "# 矩阵比较稀疏\n",
    "U,Sigma,VT=np.linalg.svd(Mat2)\n",
    "S=Sigma**2\n",
    "print('总平方和：',sum(S))\n",
    "print('取前3个',sum(S[:3])/sum(S)) # 取前3个\n",
    "# 然后构造矩阵\n",
    "print('SVD结果：\\n',recommend(Mat2,1,estMethod=svdEst))\n",
    "\n",
    "\n",
    "\n"
   ],
   "metadata": {
    "collapsed": false,
    "pycharm": {
     "name": "#%%\n"
    }
   }
  }
 ],
 "metadata": {
  "kernelspec": {
   "display_name": "PyCharm (Not_Scrapy)",
   "language": "python",
   "name": "pycharm-668536be"
  },
  "language_info": {
   "codemirror_mode": {
    "name": "ipython",
    "version": 2
   },
   "file_extension": ".py",
   "mimetype": "text/x-python",
   "name": "python",
   "nbconvert_exporter": "python",
   "pygments_lexer": "ipython2",
   "version": "2.7.6"
  }
 },
 "nbformat": 4,
 "nbformat_minor": 0
}