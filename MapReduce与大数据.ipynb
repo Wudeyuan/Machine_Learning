{
 "cells": [
  {
   "cell_type": "code",
   "execution_count": null,
   "metadata": {
    "collapsed": true
   },
   "outputs": [],
   "source": [
    "#..........................案例1:\n",
    "#.......................... MapReduce\n",
    "#..........Hadoop是MapReduce框架的一个免费开源实现\n",
    "# mapper: 输入数据也被切片分发到每个节点，各个节点只在本地数据上做运算\n",
    "import sys\n",
    "from numpy import mat, mean, power\n",
    "def read_input(file):\n",
    "    for line in file:\n",
    "        yield line.rstrip()\n",
    "input = read_input(sys.stdin) # 与input()功能类似\n",
    "input = [float(line) for line in input] #overwrite with floats\n",
    "numInputs = len(input)\n",
    "input = mat(input)\n",
    "sqInput = power(input,2)\n",
    "\n",
    "#output size, mean, mean(square values)\n",
    "print(\"%d\\t%f\\t%f\" % (numInputs, mean(input), mean(sqInput))) #calc mean of columns\n",
    "print(\"report: still alive\",file=sys.stderr) # stderr错误信息\n",
    "#...cmd: python mrMeanMapper.py < inputFile.txt\n",
    "# 输出> 100     0.509570        0.344439\n",
    "# 输出> report: still alive"
   ]
  },
  {
   "cell_type": "code",
   "execution_count": null,
   "outputs": [],
   "source": [
    "# reducer:输出程序的最终执行结果\n",
    "import sys\n",
    "from numpy import mat, mean, power\n",
    "def read_input(file):\n",
    "    for line in file:\n",
    "        yield line.rstrip()\n",
    "input = read_input(sys.stdin)#creates a list of input lines\n",
    "#split input lines into separate items and store in list of lists\n",
    "mapperOut = [line.split('\\t') for line in input]\n",
    "#accumulate total number of samples, overall sum and overall sum sq\n",
    "cumVal=0.0\n",
    "cumSumSq=0.0\n",
    "cumN=0.0\n",
    "for instance in mapperOut:\n",
    "    nj = float(instance[0])\n",
    "    cumN += nj\n",
    "    cumVal += nj*float(instance[1])\n",
    "    cumSumSq += nj*float(instance[2])\n",
    "#calculate means\n",
    "mean = cumVal/cumN\n",
    "meanSq = cumSumSq/cumN\n",
    "#output size, mean, mean(square values)\n",
    "print(\"%d\\t%f\\t%f\" % (cumN, mean, meanSq))\n",
    "print(\"report: still alive\",file=sys.stderr)\n",
    "#...cmd: python mrMeanMapper.py < inputFile.txt | python mrMeanReducer.py\n",
    "# 输出与上相同\n",
    "\n",
    "#...条件不够，未完待续"
   ],
   "metadata": {
    "collapsed": false,
    "pycharm": {
     "name": "#%%\n"
    }
   }
  }
 ],
 "metadata": {
  "kernelspec": {
   "display_name": "PyCharm (Not_Scrapy)",
   "language": "python",
   "name": "pycharm-668536be"
  },
  "language_info": {
   "codemirror_mode": {
    "name": "ipython",
    "version": 2
   },
   "file_extension": ".py",
   "mimetype": "text/x-python",
   "name": "python",
   "nbconvert_exporter": "python",
   "pygments_lexer": "ipython2",
   "version": "2.7.6"
  }
 },
 "nbformat": 4,
 "nbformat_minor": 0
}