{
 "cells": [
  {
   "cell_type": "code",
   "execution_count": null,
   "outputs": [],
   "source": [
    "#..........................案例1:\n",
    "#.......................... 降维\n",
    "#......维数灾难（curse of dimentionality）：维度多会导致分布稀疏，需要大量的实例\n",
    "#......降维肯定会丢失一些信息,一般用来加速训练\n",
    "#...降维技术:\n",
    "# 投影（适合某一维度都在低维空间），\n",
    "# 流行学：流形假设（manifold hypothesis），它认为大多数现实世界的高维数据集大都靠近一个更低维的流形。这种假设经常在实践中被证实，但不总是这样。\n",
    "#...PCA(主成分分析，投影保留最大方差)\n",
    "# SVD奇异分解的VT部分\n",
    "from sklearn.decomposition import PCA\n",
    "from sklearn.datasets import make_moons\n",
    "X,y=make_moons(n_samples=100)\n",
    "pca=PCA(n_components=2)\n",
    "X2D=pca.fit_transform(X) # 会自动中心化，2维\n",
    "print('方差解释率：',pca.explained_variance_ratio_)\n",
    "pca=PCA(n_components=0.95) # 0-1表示保留多少比率的方差\n",
    "X_reduced=pca.fit_transform(X)\n",
    "#...增量PCA\n",
    "# 将训练集分批，然后计算，适用于数据集较大\n",
    "from sklearn.decomposition import IncrementalPCA\n",
    "import numpy as np\n",
    "n_batches=100\n",
    "inc_pca=IncrementalPCA(n_components=2) # 要低于总维度\n",
    "for X_batch in np.array_split(X,n_batches):\n",
    "    inc_pca.partial_fit(X_batch) # 对每个都进行partial_fit\n",
    "X_mnist_reduced=inc_pca.transform(X)\n",
    "# 另一种写法\n",
    "filename=''\n",
    "n=1000\n",
    "X_mm=np.memmap(filename,dtype='float32',mode='readonly',shape=(n,2))\n",
    "# memmap允许您操作存储在磁盘上二进制文件中的大型数组，就好像它完全在内存中\n",
    "batch_size=n//n_batches\n",
    "inc_pca=IncrementalPCA(n_components=154,batch_size=batch_size)\n",
    "inc_pca.fit(X_mm)\n",
    "#...随机PCA\n",
    "rnd_pca=PCA(n_components=154,svd_solver='randomized')\n",
    "X_reduced=rnd_pca.fit_transform(X)"
   ],
   "metadata": {
    "collapsed": false,
    "pycharm": {
     "name": "#%%\n"
    }
   }
  },
  {
   "cell_type": "code",
   "execution_count": 10,
   "outputs": [
    {
     "name": "stdout",
     "output_type": "stream",
     "text": [
      "最佳参数: {'kpca__gamma': 0.03, 'kpca__kernel': 'rbf'}\n"
     ]
    },
    {
     "data": {
      "text/plain": "0.24690435095920732"
     },
     "execution_count": 10,
     "metadata": {},
     "output_type": "execute_result"
    }
   ],
   "source": [
    "#...核PCA\n",
    "# 核技巧，一种将实例隐式映射到非常高维空间（称为特征空间）的数学技术\n",
    "# 可以执行复杂的非线性投影来降低维度\n",
    "from sklearn.decomposition import KernelPCA\n",
    "rbf_pca=KernelPCA(n_components=2,kernel='rbf',gamma=0.04)\n",
    "X_reduced=rbf_pca.fit_transform(X)\n",
    "# 找最佳核和参数\n",
    "# PCA和logit回归\n",
    "from sklearn.model_selection import GridSearchCV  # CV格\n",
    "from sklearn.linear_model import LogisticRegression\n",
    "from sklearn.pipeline import Pipeline\n",
    "clf = Pipeline([\n",
    "    (\"kpca\", KernelPCA(n_components=2)),\n",
    "    (\"log_reg\", LogisticRegression())\n",
    "])\n",
    "param_grid = [{\n",
    "    \"kpca__gamma\": np.linspace(0.03, 0.05, 10),\n",
    "    \"kpca__kernel\": [\"rbf\", \"sigmoid\"]\n",
    "}]\n",
    "grid_search = GridSearchCV(clf, param_grid, cv=3)\n",
    "grid_search.fit(X, y)\n",
    "print('最佳参数:',grid_search.best_params_)\n",
    "# 另一种寻找最佳参数方法：最小化重建前图像误差\n",
    "rbf_pca = KernelPCA(n_components = 2, kernel=\"rbf\", gamma=0.0433,fit_inverse_transform=True)\n",
    "X_reduced = rbf_pca.fit_transform(X)\n",
    "X_preimage = rbf_pca.inverse_transform(X_reduced)\n",
    "from sklearn.metrics import mean_squared_error\n",
    "mean_squared_error(X, X_preimage) # 最小化误差"
   ],
   "metadata": {
    "collapsed": false,
    "pycharm": {
     "name": "#%%\n"
    }
   }
  },
  {
   "cell_type": "code",
   "execution_count": 11,
   "outputs": [],
   "source": [
    "# LLE，局部线性嵌入，流形学技术的非线性降维\n",
    "# 将流形较强的多维空间展开\n",
    "# 处理大数据时较为吃力\n",
    "from sklearn.manifold import LocallyLinearEmbedding\n",
    "lle=LocallyLinearEmbedding(n_components=2,n_neighbors=10)\n",
    "X_reduced=lle.fit_transform(X)\n",
    "# 其他的降维方法：\n",
    "# MDS 多维缩放\n",
    "# lsomap\n",
    "# t-SNE t-分布随机邻域嵌入\n",
    "# LDA 线性判别分析，SVM之前，LDA是比较好的降维技术\n"
   ],
   "metadata": {
    "collapsed": false,
    "pycharm": {
     "name": "#%%\n"
    }
   }
  }
 ],
 "metadata": {
  "kernelspec": {
   "display_name": "PyCharm (Not_Scrapy)",
   "language": "python",
   "name": "pycharm-668536be"
  },
  "language_info": {
   "codemirror_mode": {
    "name": "ipython",
    "version": 2
   },
   "file_extension": ".py",
   "mimetype": "text/x-python",
   "name": "python",
   "nbconvert_exporter": "python",
   "pygments_lexer": "ipython2",
   "version": "2.7.6"
  }
 },
 "nbformat": 4,
 "nbformat_minor": 0
}