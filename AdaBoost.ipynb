{
 "cells": [
  {
   "cell_type": "code",
   "execution_count": 10,
   "metadata": {
    "collapsed": true
   },
   "outputs": [
    {
     "name": "stdout",
     "output_type": "stream",
     "text": [
      "({'dim': 0, 'thresh': 1.3, 'ineq': 'lt'}, matrix([[0.2]]), array([[-1.],\n",
      "       [ 1.],\n",
      "       [-1.],\n",
      "       [-1.],\n",
      "       [ 1.]]))\n",
      "total error:  0.2\n",
      "total error:  0.2\n",
      "total error:  0.0\n",
      "训练结果：\n",
      " ([{'dim': 0, 'thresh': 1.3, 'ineq': 'lt', 'alpha': 0.6931471805599453}, {'dim': 1, 'thresh': 1.0, 'ineq': 'lt', 'alpha': 0.9729550745276565}, {'dim': 0, 'thresh': 0.9, 'ineq': 'lt', 'alpha': 0.8958797346140273}], matrix([[ 1.17568763],\n",
      "        [ 2.56198199],\n",
      "        [-0.77022252],\n",
      "        [-0.77022252],\n",
      "        [ 0.61607184]]))\n",
      "total error:  0.2\n",
      "total error:  0.2\n",
      "total error:  0.0\n",
      "预测结果：\n",
      " [[-1.]]\n"
     ]
    }
   ],
   "source": [
    "#..........................案例1:\n",
    "#..........................bagging：基于数据随机重抽样的分类器构建方法，每个分类器是等权重的。更先进的bagging方法，随机森林\n",
    "#..........................boosting是一种与bagging很类似的技术，但是boosting不同的分类器是通过串行训练而获得的，每个新分类器都根据已训练出的分类器的性能来进行训练。boosting是通过集中关注被已有分类器错分的那些数据来获得新的分类器。它的分类器的权重是不同的，每个权重代表的是其对应分类器在上一轮迭代中的成功度。\n",
    "#..............AdaBoost（adaptive boosting）是boosting的一种\n",
    "#..............AdaBoost在同一样本多次操作，每个样本的权重alpha=0.5*ln(1/u-1)，u=error/all。即越错权重越大\n",
    "#......\n",
    "\n",
    "import numpy as np\n",
    "datMat = np.mat([[ 1. ,  2.1],\n",
    "        [ 2. ,  1.1],\n",
    "        [ 1.3,  1. ],\n",
    "        [ 1. ,  1. ],\n",
    "        [ 2. ,  1. ]])\n",
    "classLabels = [1.0, 1.0, -1.0, -1.0, 1.0]\n",
    "# 通过阈值进行分类\n",
    "def stumpClassify(dataMatrix,dimen,threshVal,threshIneq):#just classify the data\n",
    "    retArray = np.ones((np.shape(dataMatrix)[0],1))\n",
    "    if threshIneq == 'lt':\n",
    "        retArray[dataMatrix[:,dimen] <= threshVal] = -1.0\n",
    "    else:\n",
    "        retArray[dataMatrix[:,dimen] > threshVal] = -1.0\n",
    "    return retArray\n",
    "# 循环找到具有最低错误率的单层决策树，基于加权输入值进行决策的分类器\n",
    "def buildStump(dataArr,classLabels,D):\n",
    "    dataMatrix = np.mat(dataArr); labelMat = np.mat(classLabels).T\n",
    "    m,n = np.shape(dataMatrix)\n",
    "    numSteps = 10.0; bestStump = {}; bestClasEst = np.mat(np.zeros((m,1)))\n",
    "    minError = np.inf #init error sum, to +infinity\n",
    "    for i in range(n):#loop over all dimensions\n",
    "        rangeMin = dataMatrix[:,i].min(); rangeMax = dataMatrix[:,i].max()\n",
    "        stepSize = (rangeMax-rangeMin)/numSteps\n",
    "        for j in range(-1,int(numSteps)+1):#loop over all range in current dimension\n",
    "            for inequal in ['lt', 'gt']: #go over less than and greater than\n",
    "                threshVal = (rangeMin + float(j) * stepSize)\n",
    "                predictedVals = stumpClassify(dataMatrix,i,threshVal,inequal) #call stump classify with i, j, lessThan\n",
    "                errArr = np.mat(np.ones((m,1)))\n",
    "                errArr[predictedVals == labelMat] = 0\n",
    "                weightedError = D.T*errArr  #calc total error multiplied by D\n",
    "                # print(\"split: dim %d, thresh %.2f, thresh ineqal: %s, the weighted error is %.3f\" % (i, threshVal, inequal, weightedError))\n",
    "                if weightedError < minError:\n",
    "                    minError = weightedError\n",
    "                    bestClasEst = predictedVals.copy()\n",
    "                    bestStump['dim'] = i\n",
    "                    bestStump['thresh'] = threshVal\n",
    "                    bestStump['ineq'] = inequal\n",
    "    return bestStump,minError,bestClasEst\n",
    "# bestStump的空字典，这个字典用于存储给定权重向量D时所得到的最佳单层决策树的相关信息\n",
    "# minError 错误率\n",
    "# bestClasEst 类别估计值\n",
    "D=np.mat(np.ones((5,1))/5) # 每一个数据点的权重\n",
    "print(buildStump(datMat,classLabels,D))\n",
    "# adaboost训练\n",
    "def adaBoostTrainDS(dataArr,classLabels,numIt=40): # 最大迭代次数\n",
    "    weakClassArr = []\n",
    "    m = np.shape(dataArr)[0]\n",
    "    D = np.mat(np.ones((m,1))/m)   #init D to all equal\n",
    "    aggClassEst = np.mat(np.zeros((m,1)))\n",
    "    for i in range(numIt):\n",
    "        bestStump,error,classEst = buildStump(dataArr,classLabels,D)#build Stump\n",
    "        #print \"D:\",D.T\n",
    "        alpha = float(0.5*np.log((1.0-error)/max(error,1e-16)))#calc alpha, throw in max(error,eps) to account for error=0\n",
    "        bestStump['alpha'] = alpha\n",
    "        weakClassArr.append(bestStump)                  #store Stump Params in Array\n",
    "        #print \"classEst: \",classEst.T\n",
    "        expon = np.multiply(-1*alpha*np.mat(classLabels).T,classEst) #exponent for D calc, getting messy\n",
    "        D = np.multiply(D,np.exp(expon))                              #Calc New D for next iteration\n",
    "        D = D/D.sum()\n",
    "        #calc training error of all classifiers, if this is 0 quit for loop early (use break)\n",
    "        aggClassEst += alpha*classEst\n",
    "        # print(\"aggClassEst: \",aggClassEst.T)\n",
    "        aggErrors = np.multiply(np.sign(aggClassEst) != np.mat(classLabels).T,np.ones((m,1)))\n",
    "        errorRate = aggErrors.sum()/m\n",
    "        print(\"total error: \",errorRate)\n",
    "        if errorRate == 0.0: break\n",
    "    return weakClassArr,aggClassEst\n",
    "print('训练结果：\\n',adaBoostTrainDS(datMat,classLabels,numIt=40))\n",
    "classr=adaBoostTrainDS(datMat,classLabels,numIt=40)\n",
    "# AdaBoost分类函数\n",
    "def adaClassify(datToClass,classifierArr):\n",
    "    dataMatrix = np.mat(datToClass)#do stuff similar to last aggClassEst in adaBoostTrainDS\n",
    "    m = np.shape(dataMatrix)[0]\n",
    "    aggClassEst = np.mat(np.zeros((m,1)))\n",
    "    for i in range(len(classifierArr)):\n",
    "        classEst = stumpClassify(dataMatrix,classifierArr[i]['dim'],classifierArr[i]['thresh'],classifierArr[i]['ineq']) # call stump classify\n",
    "        aggClassEst += classifierArr[i]['alpha']*classEst\n",
    "        # print(aggClassEst)\n",
    "    return np.sign(aggClassEst)\n",
    "print('预测结果：\\n',adaClassify([0,0],classr[0]))"
   ]
  },
  {
   "cell_type": "code",
   "execution_count": 11,
   "outputs": [
    {
     "name": "stdout",
     "output_type": "stream",
     "text": [
      "total error:  0.2842809364548495\n",
      "total error:  0.2842809364548495\n",
      "total error:  0.24749163879598662\n",
      "total error:  0.24749163879598662\n",
      "total error:  0.25418060200668896\n",
      "total error:  0.2408026755852843\n",
      "total error:  0.2408026755852843\n",
      "total error:  0.22073578595317725\n",
      "total error:  0.24749163879598662\n",
      "total error:  0.23076923076923078\n",
      "错误率： 0.23880597014925373\n"
     ]
    }
   ],
   "source": [
    "#..........................案例2:\n",
    "#..........................实际应用\n",
    "import pandas as pd\n",
    "file=r'C:\\Users\\Wudey\\Desktop\\machinelearninginaction\\Ch07\\horseColicTraining2.txt'\n",
    "file1=r'C:\\Users\\Wudey\\Desktop\\machinelearninginaction\\Ch07\\horseColicTest2.txt'\n",
    "dta=pd.read_table(file,header=None)\n",
    "dta,label=dta.iloc[:,:-1],dta.iloc[:,-1]\n",
    "classr=adaBoostTrainDS(dta,label,10) # 10在一定程度上代表了分类器的个数\n",
    "dta1=pd.read_table(file1,header=None)\n",
    "dta1,label1=dta1.iloc[:,:-1],dta1.iloc[:,-1]\n",
    "pre=adaClassify(dta1,classr[0])\n",
    "err=np.mat(np.ones((67,1)))\n",
    "print(\"错误率：\",err[pre!=np.mat(label1).T].sum()/67)"
   ],
   "metadata": {
    "collapsed": false,
    "pycharm": {
     "name": "#%%\n"
    }
   }
  },
  {
   "cell_type": "code",
   "execution_count": 12,
   "outputs": [
    {
     "name": "stdout",
     "output_type": "stream",
     "text": [
      "total error:  0.2842809364548495\n",
      "total error:  0.2842809364548495\n",
      "total error:  0.24749163879598662\n",
      "total error:  0.24749163879598662\n",
      "total error:  0.25418060200668896\n",
      "total error:  0.2408026755852843\n",
      "total error:  0.2408026755852843\n",
      "total error:  0.22073578595317725\n",
      "total error:  0.24749163879598662\n",
      "total error:  0.23076923076923078\n",
      "the Area Under the Curve is:  0.8582969635063604\n"
     ]
    },
    {
     "data": {
      "text/plain": "<Figure size 432x288 with 1 Axes>",
      "image/png": "[encoded data removed]"
     },
     "metadata": {
      "needs_background": "light"
     },
     "output_type": "display_data"
    }
   ],
   "source": [
    "#..........................案例3:\n",
    "#..........................分类效果判断\n",
    "#............混淆矩阵：\n",
    "#...         +1(预测)                   -1(预测)\n",
    "#... +1 真正例（TP，true positive）   伪反例（FN，false negative）\n",
    "#... -1 伪正例（FP）                  真反例（TN）\n",
    "#... 正确率（Precision），它等于TP/(TP+FP)，预测+1中有多少是对的（预测对的中对多少）\n",
    "#... 召回率（Recall），它等于TP/(TP+FN)，真实+1中有多少是预测对的（对的中预测对的）\n",
    "#... ROC曲线（曲线下面积越大越好）：\n",
    "# 横轴：假阳率=FP/(FP+TN) 错的中预测错的 类似于cost\n",
    "# 纵轴：真阳率=TP/(TP+FN) 召回率 类似于benefit\n",
    "# ROC曲线的绘制及AUC计算函数\n",
    "# 为了画出ROC曲线，分类器必须提供每个样例被判为阳性或者阴性的可信程度值，adaBoostTrainDS的输出agg即为所需\n",
    "import matplotlib.pyplot as plt\n",
    "def plotROC(predStrengths, classLabels):\n",
    "    cur = (1.0,1.0) #cursor\n",
    "    ySum = 0.0 #variable to calculate AUC\n",
    "    numPosClas = sum(np.array(classLabels)==1.0)\n",
    "    yStep = 1/float(numPosClas); xStep = 1/float(len(classLabels)-numPosClas)\n",
    "    sortedIndicies = predStrengths.argsort() #get sorted index, it's reverse\n",
    "    fig = plt.figure()\n",
    "    fig.clf()\n",
    "    ax = plt.subplot(111)\n",
    "    #loop through all the values, drawing a line segment at each point\n",
    "    for index in sortedIndicies.tolist()[0]:\n",
    "        if classLabels[index] == 1.0:\n",
    "            delX = 0; delY = yStep\n",
    "        else:\n",
    "            delX = xStep; delY = 0\n",
    "            ySum += cur[1]\n",
    "        #draw line from cur to (cur[0]-delX,cur[1]-delY)\n",
    "        ax.plot([cur[0],cur[0]-delX],[cur[1],cur[1]-delY], c='b')\n",
    "        cur = (cur[0]-delX,cur[1]-delY)\n",
    "    ax.plot([0,1],[0,1],'b--')\n",
    "    plt.xlabel('False positive rate'); plt.ylabel('True positive rate')\n",
    "    plt.title('ROC curve for AdaBoost horse colic detection system')\n",
    "    ax.axis([0,1,0,1])\n",
    "    plt.show()\n",
    "    print(\"the Area Under the Curve is: \",ySum*xStep)\n",
    "classr,agg=adaBoostTrainDS(dta,label,10)\n",
    "plotROC(agg.T,label)\n",
    "\n",
    "# 过均衡\n",
    "# 假设正例和反例非常不平衡，如50:1，可以考虑删除部分正例和复制部分反例"
   ],
   "metadata": {
    "collapsed": false,
    "pycharm": {
     "name": "#%%\n"
    }
   }
  }
 ],
 "metadata": {
  "kernelspec": {
   "display_name": "PyCharm (Not_Scrapy)",
   "language": "python",
   "name": "pycharm-668536be"
  },
  "language_info": {
   "codemirror_mode": {
    "name": "ipython",
    "version": 2
   },
   "file_extension": ".py",
   "mimetype": "text/x-python",
   "name": "python",
   "nbconvert_exporter": "python",
   "pygments_lexer": "ipython2",
   "version": "2.7.6"
  }
 },
 "nbformat": 4,
 "nbformat_minor": 0
}