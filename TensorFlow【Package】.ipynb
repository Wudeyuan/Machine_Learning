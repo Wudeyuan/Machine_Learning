{
 "cells": [
  {
   "cell_type": "code",
   "execution_count": 12,
   "metadata": {
    "collapsed": true
   },
   "outputs": [
    {
     "name": "stdout",
     "output_type": "stream",
     "text": [
      "42\n",
      "2: True\n",
      "3: True False\n",
      "10\n",
      "15\n"
     ]
    }
   ],
   "source": [
    "#..........................案例1:\n",
    "#.......................... 了解TensorFlow\n",
    "#..........运行高效，可以在多个CPU或GPU上并行计算，并支持分布式计算\n",
    "# tensorflow-gpu用于支持GPU\n",
    "# conda install h5py\n",
    "# conda install tensorboard\n",
    "# pip install ...tensorflow.whl\n",
    "# 创建一个图谱(不执行任何计算)\n",
    "# （这称为构造阶段）\n",
    "import tensorflow as tf\n",
    "tf.compat.v1.disable_eager_execution() # 网上好多教程是1.0，2.0不兼容1.0，这一句很重要\n",
    "x = tf.Variable(3, name=\"x\")\n",
    "# w=tf.constant(3)\n",
    "y = tf.Variable(4, name=\"y\")\n",
    "f = x*x*y + y + 2\n",
    "# 创建一个会话\n",
    "# （这是执行阶段）\n",
    "with tf.compat.v1.Session() as sess: # with运行完后自动关闭\n",
    "    x.initializer.run() # 初始化\n",
    "    y.initializer.run() # 初始化\n",
    "    result = f.eval() # 运行,sess.run(f)也行\n",
    "print(result)\n",
    "\n",
    "# 创建的节点都会添加到默认图形中\n",
    "print('2:',x.graph is tf.compat.v1.get_default_graph())\n",
    "# 创建独立于默认的新图\n",
    "graph=tf.compat.v1.Graph()\n",
    "with graph.as_default():\n",
    "    x2=tf.Variable(2)\n",
    "print('3:',x2.graph is graph,x2.graph is tf.compat.v1.get_default_graph())\n",
    "# jupyter中多次运行，可能会出现重复节点，因此tf.reset_default_graph() 来重置默认图\n",
    "# 节点生命周期\n",
    "w = tf.constant(3)\n",
    "x = w + 2\n",
    "y = x + 5\n",
    "z = x * 3\n",
    "# with tf.compat.v1.Session() as sess:\n",
    "# print(y.eval())\n",
    "# print(z.eval())\n",
    "# 每次运行都是单独的图形，w和x会重复计算，如果需要避免多次计算：\n",
    "with tf.compat.v1.Session() as sess:\n",
    "    y_val, z_val = sess.run([y, z])\n",
    "    print(y_val) # 10\n",
    "    print(z_val) # 15\n",
    "# 单进程中，多个会话不共享任何状态；分布式中，变量状态存在服务器，不在会话中，可以共享。"
   ]
  },
  {
   "cell_type": "code",
   "execution_count": 13,
   "outputs": [
    {
     "name": "stdout",
     "output_type": "stream",
     "text": [
      "[[206855.67 ]\n",
      " [-85035.92 ]\n",
      " [-90600.08 ]\n",
      " [ 14342.191]\n",
      " [-11436.013]\n",
      " [ 24172.428]\n",
      " [-46222.355]\n",
      " [ 38310.51 ]\n",
      " [ 74750.336]]\n"
     ]
    }
   ],
   "source": [
    "#..........................案例2:\n",
    "#..........................基于TensorFlow的线性回归\n",
    "import numpy as np\n",
    "import pandas as pd\n",
    "# 数据\n",
    "from sklearn.preprocessing import StandardScaler\n",
    "file=r'C:\\Users\\Wudey\\OneDrive - whu.edu.cn\\数据分析学习\\【数据】Hands-On Machine Learning with Scikit-Learn & TensorFlow\\housing.csv'\n",
    "housing=pd.read_table(file,delimiter=',')\n",
    "housing_t=housing[\"median_house_value\"] # 因变量\n",
    "h_a=housing.drop(['median_house_value','ocean_proximity'],axis=1)\n",
    "housing_a=np.array(h_a.fillna(0)) # 填补缺失值\n",
    "scal=StandardScaler()\n",
    "housing_a=scal.fit_transform(housing_a)\n",
    "m,n=housing_a.shape\n",
    "housing_data_plus_bias=np.c_[np.ones((m, 1)), housing_a] # 添加截距项\n",
    "# tensorFlow过程\n",
    "X = tf.constant(housing_data_plus_bias, dtype=tf.float32, name=\"X\") # 自变量\n",
    "# 注意：shape(2,1)跟shape(2,)是不一样的，要用reshape来处理\n",
    "y = tf.constant(np.array(housing_t).reshape(20640,1), dtype=tf.float32, name=\"y\")\n",
    "XT = tf.transpose(X) # 转置\n",
    "theta = tf.matmul(tf.matmul(tf.compat.v1.matrix_inverse(tf.matmul(XT, X)), XT),y)  # matmul矩阵相乘\n",
    "with tf.compat.v1.Session() as sess:\n",
    "    theta_value = theta.eval()\n",
    "print(theta_value)"
   ],
   "metadata": {
    "collapsed": false,
    "pycharm": {
     "name": "#%%\n"
    }
   }
  },
  {
   "cell_type": "code",
   "execution_count": 14,
   "outputs": [
    {
     "name": "stdout",
     "output_type": "stream",
     "text": [
      "Epoch 0 MSE = 56105070000.0\n",
      "Epoch 100 MSE = 56104880000.0\n",
      "Epoch 200 MSE = 56105054000.0\n",
      "Epoch 300 MSE = 56105280000.0\n",
      "Epoch 400 MSE = 56105100000.0\n",
      "Epoch 500 MSE = 56104727000.0\n",
      "Epoch 600 MSE = 56104546000.0\n",
      "Epoch 700 MSE = 56104563000.0\n",
      "Epoch 800 MSE = 56104493000.0\n",
      "Epoch 900 MSE = 56104990000.0\n"
     ]
    }
   ],
   "source": [
    "#..........................基于TensorFlow的梯度下降\n",
    "n_epochs = 1000\n",
    "learning_rate = 0.01\n",
    "X = tf.constant(housing_data_plus_bias, dtype=tf.float32, name=\"X\")\n",
    "y = tf.constant(np.array(housing_t).reshape(20640,1), dtype=tf.float32, name=\"y\")\n",
    "theta = tf.Variable(tf.compat.v1.random_uniform([n + 1, 1], -1.0, 1.0), name=\"theta\") # 初始权重（系数）\n",
    "y_pred = tf.matmul(X, theta, name=\"predictions\") # 首次预测值\n",
    "error = y_pred - y # 首次误差项\n",
    "mse = tf.reduce_mean(tf.square(error), name=\"mse\") # 均方误差\n",
    "# gradients = 2/m * tf.matmul(tf.transpose(X), error) # 梯度下降公式\n",
    "# （gradients = tf.gradients(mse, [theta])[0] # 自带的梯度下降公式）\n",
    "# training_op = tf.compat.v1.assign(theta, theta - learning_rate * gradients) # 调整权重\n",
    "# 优化的梯度下降\n",
    "optimizer=tf.compat.v1.train.GradientDescentOptimizer(learning_rate=learning_rate)\n",
    "# 动量优化器：tf.compat.v1.train.MomentumOptimizer(learning_rate=learning_rate, momentum=0.9)\n",
    "training_op=optimizer.minimize(mse)\n",
    "init = tf.compat.v1.global_variables_initializer()\n",
    "with tf.compat.v1.Session() as sess:\n",
    "    for epoch in range(n_epochs):\n",
    "        sess.run(init) # 全部初始化,注意每迭代一次都需要初始化，不然就变量NA\n",
    "        if epoch % 100 == 0:\n",
    "            print(\"Epoch\", epoch, \"MSE =\", mse.eval())\n",
    "        sess.run(training_op) # 让每次计算都迭代\n",
    "    best_theta = theta.eval()"
   ],
   "metadata": {
    "collapsed": false,
    "pycharm": {
     "name": "#%%\n"
    }
   }
  },
  {
   "cell_type": "code",
   "execution_count": 43,
   "outputs": [
    {
     "name": "stdout",
     "output_type": "stream",
     "text": [
      "[[ 9. 10. 11.]\n",
      " [12. 13. 14.]]\n",
      "[[4078.806   ]\n",
      " [ -60.824013]\n",
      " [-366.01053 ]\n",
      " [ -95.40403 ]\n",
      " [-278.247   ]\n",
      " [-438.13663 ]\n",
      " [-373.22113 ]\n",
      " [-370.9333  ]\n",
      " [2101.3271  ]]\n"
     ]
    }
   ],
   "source": [
    "# 小批量梯度下降\n",
    "# 占位符placeholder，不计算，只输出运行时的数据\n",
    "A = tf.compat.v1.placeholder(tf.float32, shape=(None, 3))\n",
    "B=A+5\n",
    "with tf.compat.v1.Session() as sess:\n",
    "    B_val_1=B.eval(feed_dict={A:[[1,2,3]]}) # 必须具有三列，与前面一致\n",
    "    B_val_2=B.eval(feed_dict={A:[[4,5,6],[7,8,9]]})\n",
    "print(B_val_2)\n",
    "# 小批量梯度完整版\n",
    "learning_rate = 0.01\n",
    "X = tf.compat.v1.placeholder(tf.float32, shape=(None, n + 1), name=\"X\")\n",
    "y = tf.compat.v1.placeholder(tf.float32, shape=(None, 1), name=\"y\")\n",
    "theta = tf.Variable(tf.compat.v1.random_uniform([n + 1, 1], -1.0, 1.0, seed=42), name=\"theta\")\n",
    "y_pred = tf.matmul(X, theta, name=\"predictions\")\n",
    "error = y_pred - y\n",
    "mse = tf.reduce_mean(tf.square(error), name=\"mse\")\n",
    "optimizer = tf.compat.v1.train.GradientDescentOptimizer(learning_rate=learning_rate)\n",
    "training_op = optimizer.minimize(mse)\n",
    "init = tf.compat.v1.global_variables_initializer()\n",
    "n_epochs = 100\n",
    "batch_size = 100\n",
    "n_batches = int(np.ceil(m / batch_size)) # ceil() 方法返回 x 的值上限 - 不小于 x 的最小整数。\n",
    "saver = tf.compat.v1.train.Saver()\n",
    "def fetch_batch(epoch, batch_index, batch_size):\n",
    "    np.random.seed(epoch * n_batches + batch_index) # 可重复\n",
    "    indices = np.random.randint(m, size=batch_size) # not shown\n",
    "    X_batch = housing_data_plus_bias[indices] # not shown\n",
    "    y_batch = np.array(housing_t).reshape(20640,1)[indices] # not shown\n",
    "    return X_batch, y_batch\n",
    "with tf.compat.v1.Session() as sess:\n",
    "    for epoch in range(n_epochs):\n",
    "        for batch_index in range(n_batches):\n",
    "            sess.run(init)\n",
    "            X_batch, y_batch = fetch_batch(epoch, batch_index, batch_size)\n",
    "            sess.run(training_op, feed_dict={X: X_batch, y: y_batch})\n",
    "    best_theta = theta.eval()\n",
    "    save_path=saver.save(sess,\"/tmp/my_final.ckpt\")\n",
    "print(best_theta)\n",
    "# 恢复模型：\n",
    "# with tf.compat.v1.Session() as sess:\n",
    "#     saver.restore(sess, \"/tmp/my_model_final.ckpt\")"
   ],
   "metadata": {
    "collapsed": false,
    "pycharm": {
     "name": "#%%\n"
    }
   }
  },
  {
   "cell_type": "code",
   "execution_count": 46,
   "outputs": [
    {
     "ename": "AttributeError",
     "evalue": "'numpy.bool_' object has no attribute 'value'",
     "output_type": "error",
     "traceback": [
      "\u001B[1;31m---------------------------------------------------------------------------\u001B[0m",
      "\u001B[1;31mAttributeError\u001B[0m                            Traceback (most recent call last)",
      "\u001B[1;32m<ipython-input-46-86d65ce64b40>\u001B[0m in \u001B[0;36m<module>\u001B[1;34m\u001B[0m\n\u001B[0;32m     19\u001B[0m                 \u001B[0msummary_str\u001B[0m \u001B[1;33m=\u001B[0m \u001B[0mmse_summary\u001B[0m\u001B[1;33m.\u001B[0m\u001B[0meval\u001B[0m\u001B[1;33m(\u001B[0m\u001B[0mfeed_dict\u001B[0m\u001B[1;33m=\u001B[0m\u001B[1;33m{\u001B[0m\u001B[0mX\u001B[0m\u001B[1;33m:\u001B[0m \u001B[0mX_batch\u001B[0m\u001B[1;33m,\u001B[0m \u001B[0my\u001B[0m\u001B[1;33m:\u001B[0m \u001B[0my_batch\u001B[0m\u001B[1;33m}\u001B[0m\u001B[1;33m)\u001B[0m\u001B[1;33m\u001B[0m\u001B[1;33m\u001B[0m\u001B[0m\n\u001B[0;32m     20\u001B[0m                 \u001B[0mstep\u001B[0m \u001B[1;33m=\u001B[0m \u001B[0mepoch\u001B[0m \u001B[1;33m*\u001B[0m \u001B[0mn_batches\u001B[0m \u001B[1;33m+\u001B[0m \u001B[0mbatch_index\u001B[0m\u001B[1;33m\u001B[0m\u001B[1;33m\u001B[0m\u001B[0m\n\u001B[1;32m---> 21\u001B[1;33m                 \u001B[0mfile_writer\u001B[0m\u001B[1;33m.\u001B[0m\u001B[0madd_summary\u001B[0m\u001B[1;33m(\u001B[0m\u001B[0msummary_str\u001B[0m\u001B[1;33m,\u001B[0m \u001B[0mstep\u001B[0m\u001B[1;33m)\u001B[0m\u001B[1;33m\u001B[0m\u001B[1;33m\u001B[0m\u001B[0m\n\u001B[0m\u001B[0;32m     22\u001B[0m             \u001B[0msess\u001B[0m\u001B[1;33m.\u001B[0m\u001B[0mrun\u001B[0m\u001B[1;33m(\u001B[0m\u001B[0mtraining_op\u001B[0m\u001B[1;33m,\u001B[0m \u001B[0mfeed_dict\u001B[0m\u001B[1;33m=\u001B[0m\u001B[1;33m{\u001B[0m\u001B[0mX\u001B[0m\u001B[1;33m:\u001B[0m \u001B[0mX_batch\u001B[0m\u001B[1;33m,\u001B[0m \u001B[0my\u001B[0m\u001B[1;33m:\u001B[0m \u001B[0my_batch\u001B[0m\u001B[1;33m}\u001B[0m\u001B[1;33m)\u001B[0m\u001B[1;33m\u001B[0m\u001B[1;33m\u001B[0m\u001B[0m\n\u001B[0;32m     23\u001B[0m     \u001B[0mbest_theta\u001B[0m \u001B[1;33m=\u001B[0m \u001B[0mtheta\u001B[0m\u001B[1;33m.\u001B[0m\u001B[0meval\u001B[0m\u001B[1;33m(\u001B[0m\u001B[1;33m)\u001B[0m\u001B[1;33m\u001B[0m\u001B[1;33m\u001B[0m\u001B[0m\n",
      "\u001B[1;32mC:\\wudeyuan\\Anaconda\\lib\\site-packages\\tensorflow\\python\\summary\\writer\\writer.py\u001B[0m in \u001B[0;36madd_summary\u001B[1;34m(self, summary, global_step)\u001B[0m\n\u001B[0;32m    125\u001B[0m     \u001B[1;31m# to save space - we just store the metadata on the first value with a\u001B[0m\u001B[1;33m\u001B[0m\u001B[1;33m\u001B[0m\u001B[1;33m\u001B[0m\u001B[0m\n\u001B[0;32m    126\u001B[0m     \u001B[1;31m# specific tag.\u001B[0m\u001B[1;33m\u001B[0m\u001B[1;33m\u001B[0m\u001B[1;33m\u001B[0m\u001B[0m\n\u001B[1;32m--> 127\u001B[1;33m     \u001B[1;32mfor\u001B[0m \u001B[0mvalue\u001B[0m \u001B[1;32min\u001B[0m \u001B[0msummary\u001B[0m\u001B[1;33m.\u001B[0m\u001B[0mvalue\u001B[0m\u001B[1;33m:\u001B[0m\u001B[1;33m\u001B[0m\u001B[1;33m\u001B[0m\u001B[0m\n\u001B[0m\u001B[0;32m    128\u001B[0m       \u001B[1;32mif\u001B[0m \u001B[1;32mnot\u001B[0m \u001B[0mvalue\u001B[0m\u001B[1;33m.\u001B[0m\u001B[0mmetadata\u001B[0m\u001B[1;33m:\u001B[0m\u001B[1;33m\u001B[0m\u001B[1;33m\u001B[0m\u001B[0m\n\u001B[0;32m    129\u001B[0m         \u001B[1;32mcontinue\u001B[0m\u001B[1;33m\u001B[0m\u001B[1;33m\u001B[0m\u001B[0m\n",
      "\u001B[1;31mAttributeError\u001B[0m: 'numpy.bool_' object has no attribute 'value'"
     ]
    }
   ],
   "source": [
    "# 回到批量梯度下降（以下代码出了问题，有空研究一下）\n",
    "from datetime import datetime\n",
    "now = datetime.utcnow().strftime(\"%Y%m%d%H%M%S\")\n",
    "root_logdir = r\"C:\\Users\\Wudey\\Desktop\\tf_logs\"\n",
    "logdir = \"{}/run-{}/\".format(root_logdir, now)\n",
    "mse_summary = tf.summary.scalar('MSE', mse)\n",
    "file_writer = tf.compat.v1.summary.FileWriter(logdir, tf.compat.v1.get_default_graph())\n",
    "n_epochs = 100\n",
    "learning_rate = 0.01\n",
    "class summ():\n",
    "    def __init__(self,value):\n",
    "        self.value=value\n",
    "with tf.compat.v1.Session() as sess:\n",
    "    for epoch in range(n_epochs):\n",
    "        for batch_index in range(n_batches):\n",
    "            sess.run(init)\n",
    "            X_batch, y_batch = fetch_batch(epoch, batch_index, batch_size)\n",
    "            if batch_index % 10 == 0:\n",
    "                summary_str = mse_summary.eval(feed_dict={X: X_batch, y: y_batch})\n",
    "                step = epoch * n_batches + batch_index\n",
    "                file_writer.add_summary(summary_str, step)\n",
    "            sess.run(training_op, feed_dict={X: X_batch, y: y_batch})\n",
    "    best_theta = theta.eval()\n",
    "print(best_theta)\n",
    "file_writer.close()\n",
    "# cmd: tensorboard --logdir tf_logs/ 就可以看到图形"
   ],
   "metadata": {
    "collapsed": false,
    "pycharm": {
     "name": "#%%\n"
    }
   }
  },
  {
   "cell_type": "code",
   "execution_count": 39,
   "outputs": [
    {
     "data": {
      "text/plain": "False"
     },
     "execution_count": 39,
     "metadata": {},
     "output_type": "execute_result"
    }
   ],
   "source": [
    "# 更多内容待补充\n",
    "\n",
    "\n"
   ],
   "metadata": {
    "collapsed": false,
    "pycharm": {
     "name": "#%%\n"
    }
   }
  }
 ],
 "metadata": {
  "kernelspec": {
   "display_name": "PyCharm (Not_Scrapy)",
   "language": "python",
   "name": "pycharm-668536be"
  },
  "language_info": {
   "codemirror_mode": {
    "name": "ipython",
    "version": 2
   },
   "file_extension": ".py",
   "mimetype": "text/x-python",
   "name": "python",
   "nbconvert_exporter": "python",
   "pygments_lexer": "ipython2",
   "version": "2.7.6"
  }
 },
 "nbformat": 4,
 "nbformat_minor": 0
}