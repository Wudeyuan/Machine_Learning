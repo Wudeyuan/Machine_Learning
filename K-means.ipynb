{
 "cells": [
  {
   "cell_type": "code",
   "execution_count": 26,
   "metadata": {
    "collapsed": true
   },
   "outputs": [
    {
     "name": "stdout",
     "output_type": "stream",
     "text": [
      "K-means的k个点：\n",
      " [[ 4.4668495   0.75118342]\n",
      " [-1.46176469  1.12008995]\n",
      " [ 2.71001547  4.48929816]]\n",
      "迭代过程(迭代了3次)：\n",
      "[[ 0.22798161 -0.24049276]\n",
      " [ 1.92798538  1.85366518]\n",
      " [ 0.77923336 -0.10920783]\n",
      " [ 0.18782218  4.1705785 ]]\n",
      "[[-3.02774732 -2.48702036]\n",
      " [ 2.97214218  2.22480429]\n",
      " [ 2.84110669 -2.83317019]\n",
      " [-1.29906809  3.36493886]]\n",
      "[[-3.38237045 -2.9473363 ]\n",
      " [ 2.6265299   3.10868015]\n",
      " [ 2.80293085 -2.7315146 ]\n",
      " [-2.46154315  2.78737555]]\n"
     ]
    }
   ],
   "source": [
    "#..........................案例1:\n",
    "#..........................K-means\n",
    "import numpy as np\n",
    "import pandas as pd\n",
    "# 欧氏距离\n",
    "def distEclud(vecA, vecB):\n",
    "    return np.sqrt(np.sum(np.power(vecA - vecB, 2))) #la.norm(vecA-vecB)\n",
    "# k个质心，每个维度随机选择k个范围内的点\n",
    "def randCent(dataSet, k):\n",
    "    n = np.shape(dataSet)[1]\n",
    "    centroids = np.mat(np.zeros((k,n)))#create centroid mat\n",
    "    for j in range(n):#create random cluster centers, within bounds of each dimension\n",
    "        minJ = min(dataSet[:,j])\n",
    "        rangeJ = float(max(dataSet[:,j]) - minJ)\n",
    "        centroids[:,j] = np.mat(minJ + rangeJ * np.random.rand(k,1))\n",
    "    return centroids\n",
    "file=r'C:\\Users\\Wudey\\Desktop\\machinelearninginaction\\Ch10\\testSet_KM.txt'\n",
    "dta=pd.read_table(file,header=None)\n",
    "print('K-means的k个点：\\n',randCent(np.mat(dta),3))\n",
    "# 计算每个点与k个点的距离，这个点归属于最近的K\n",
    "# 分配完以后，重新计算k的值（均值）\n",
    "# 再计算距离，如此反复\n",
    "def kMeans(dataSet, k, distMeas=distEclud, createCent=randCent):\n",
    "    m = np.shape(dataSet)[0]\n",
    "    clusterAssment = np.mat(np.zeros((m,2))) # 第一列是标记第几个K，第一个是每个点的SE\n",
    "    centroids = createCent(dataSet, k)\n",
    "    clusterChanged = True\n",
    "    while clusterChanged:\n",
    "        clusterChanged = False\n",
    "        for i in range(m): # for each data point assign it to the closest centroid\n",
    "            minDist = np.inf; minIndex = -1\n",
    "            for j in range(k):\n",
    "                distJI = distMeas(centroids[j,:],dataSet[i,:])\n",
    "                if distJI < minDist:\n",
    "                    minDist = distJI; minIndex = j\n",
    "            if clusterAssment[i,0] != minIndex: clusterChanged = True\n",
    "            clusterAssment[i,:] = minIndex,minDist**2\n",
    "        print(centroids)\n",
    "        for cent in range(k): # recalculate centroids\n",
    "            ptsInClust = dataSet[np.nonzero(clusterAssment[:,0].A==cent)[0]] # get all the point in this cluster\n",
    "            centroids[cent,:] = np.mean(ptsInClust, axis=0) #assign centroid to mean\n",
    "    return centroids, clusterAssment\n",
    "print('迭代过程(迭代了3次)：')\n",
    "np.random.seed(0)\n",
    "K=kMeans(np.mat(dta),4)"
   ]
  },
  {
   "cell_type": "code",
   "execution_count": 30,
   "outputs": [
    {
     "name": "stdout",
     "output_type": "stream",
     "text": [
      "二分K-means：\n",
      "[[ 3.18228321  4.96857787]\n",
      " [-4.39779379  0.18350771]]\n",
      "[[ 2.81771379  1.8327775 ]\n",
      " [-1.67663544 -0.90333988]]\n",
      "[[ 2.82324713  1.35829639]\n",
      " [-1.95530037 -0.77067535]]\n",
      "[[ 2.80649627  0.59102776]\n",
      " [-2.60766091 -0.40753328]]\n",
      "[[ 2.77278464  0.27809051]\n",
      " [-2.83969898 -0.15857156]]\n",
      "[[ 2.71473038  0.18858278]\n",
      " [-2.9219568  -0.07998038]]\n",
      "sseSplit, and notSplit:  [[828.692654]] 0\n",
      "the bestCentToSplit is:  0\n",
      "the len of bestClustAss is:  80\n",
      "[[ 4.73617672  2.78798427]\n",
      " [ 3.10438823 -3.66248813]]\n",
      "[[ 2.6265299   3.10868015]\n",
      " [ 2.80293085 -2.7315146 ]]\n",
      "sseSplit, and notSplit:  [[87.30471265]] [[399.99802122]]\n",
      "[[-3.96925767 -1.72320443]\n",
      " [-4.78025152 -3.2265316 ]]\n",
      "[[-2.66266977  0.89528016]\n",
      " [-3.81505656 -3.43921111]]\n",
      "[[-2.46154315  2.78737555]\n",
      " [-3.38237045 -2.9473363 ]]\n",
      "sseSplit, and notSplit:  [[62.64959203]] [[428.69463278]]\n",
      "the bestCentToSplit is:  0\n",
      "the len of bestClustAss is:  40\n",
      "质心：\n",
      " [[ 2.6265299   3.10868015]\n",
      " [-2.9219568  -0.07998038]\n",
      " [ 2.80293085 -2.7315146 ]]\n"
     ]
    }
   ],
   "source": [
    "#..........................案例2:\n",
    "#..........................聚类效果会受到初始值的影响\n",
    "#............有可能聚类到局部最优。\n",
    "#... 用SSE来看聚类效果，一种调整策略是将方差最大的进行划分（提取出来跑K-means），然后将临近的K合并（一种合并方法是直接算距离，合并最近的，另一种是合并SSE增加最小的两个K）。\n",
    "#... 二分K-means\n",
    "# 所有点作为1簇，然后划分为2，再选择其中一个继续划分，使得整体SSE下降最大，循环往复直到K\n",
    "def biKmeans(dataSet, k, distMeas=distEclud):\n",
    "    m = np.shape(dataSet)[0]\n",
    "    clusterAssment = np.mat(np.zeros((m,2)))\n",
    "    centroid0 = np.mean(dataSet, axis=0).tolist()[0]\n",
    "    centList =[centroid0] #create a list with one centroid\n",
    "    for j in range(m):#calc initial Error\n",
    "        clusterAssment[j,1] = distMeas(np.mat(centroid0), dataSet[j,:])**2\n",
    "    while (len(centList) < k):\n",
    "        lowestSSE = np.inf\n",
    "        for i in range(len(centList)):\n",
    "            ptsInCurrCluster = dataSet[np.nonzero(clusterAssment[:,0].A==i)[0],:]#get the data points currently in cluster i\n",
    "            centroidMat, splitClustAss = kMeans(ptsInCurrCluster, 2, distMeas)\n",
    "            sseSplit = sum(splitClustAss[:,1])#compare the SSE to the currrent minimum\n",
    "            sseNotSplit = sum(clusterAssment[np.nonzero(clusterAssment[:,0].A!=i)[0],1])\n",
    "            print(\"sseSplit, and notSplit: \",sseSplit,sseNotSplit)\n",
    "            if (sseSplit + sseNotSplit) < lowestSSE:\n",
    "                bestCentToSplit = i\n",
    "                bestNewCents = centroidMat\n",
    "                bestClustAss = splitClustAss.copy()\n",
    "                lowestSSE = sseSplit + sseNotSplit\n",
    "        bestClustAss[np.nonzero(bestClustAss[:,0].A == 1)[0],0] = len(centList) #change 1 to 3,4, or whatever\n",
    "        bestClustAss[np.nonzero(bestClustAss[:,0].A == 0)[0],0] = bestCentToSplit\n",
    "        print('the bestCentToSplit is: ',bestCentToSplit)\n",
    "        print('the len of bestClustAss is: ', len(bestClustAss))\n",
    "        centList[bestCentToSplit] = bestNewCents[0,:].tolist()[0]#replace a centroid with two best centroids\n",
    "        centList.append(bestNewCents[1,:].tolist()[0])\n",
    "        clusterAssment[np.nonzero(clusterAssment[:,0].A == bestCentToSplit)[0],:]= bestClustAss#reassign new clusters, and SSE\n",
    "    return np.mat(centList), clusterAssment\n",
    "print('二分K-means：')\n",
    "c,cl=biKmeans(np.mat(dta),3)\n",
    "print('质心：\\n',c)\n",
    "\n",
    "\n",
    "\n"
   ],
   "metadata": {
    "collapsed": false,
    "pycharm": {
     "name": "#%%\n"
    }
   }
  }
 ],
 "metadata": {
  "kernelspec": {
   "display_name": "PyCharm (Not_Scrapy)",
   "language": "python",
   "name": "pycharm-668536be"
  },
  "language_info": {
   "codemirror_mode": {
    "name": "ipython",
    "version": 2
   },
   "file_extension": ".py",
   "mimetype": "text/x-python",
   "name": "python",
   "nbconvert_exporter": "python",
   "pygments_lexer": "ipython2",
   "version": "2.7.6"
  }
 },
 "nbformat": 4,
 "nbformat_minor": 0
}