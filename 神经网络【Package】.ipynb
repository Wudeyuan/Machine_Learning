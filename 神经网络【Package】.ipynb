{
 "cells": [
  {
   "cell_type": "code",
   "execution_count": 9,
   "metadata": {
    "collapsed": true
   },
   "outputs": [
    {
     "ename": "AttributeError",
     "evalue": "module 'tensorflow._api.v2.compat.v1' has no attribute 'contrib'",
     "output_type": "error",
     "traceback": [
      "\u001B[1;31m---------------------------------------------------------------------------\u001B[0m",
      "\u001B[1;31mAttributeError\u001B[0m                            Traceback (most recent call last)",
      "\u001B[1;32m<ipython-input-9-91e83240f14c>\u001B[0m in \u001B[0;36m<module>\u001B[1;34m\u001B[0m\n\u001B[0;32m     21\u001B[0m \u001B[0mX_train\u001B[0m\u001B[1;33m,\u001B[0m \u001B[0mX_test\u001B[0m\u001B[1;33m,\u001B[0m \u001B[0my_train\u001B[0m\u001B[1;33m,\u001B[0m \u001B[0my_test\u001B[0m\u001B[1;33m=\u001B[0m\u001B[0mtrain_test_split\u001B[0m\u001B[1;33m(\u001B[0m\u001B[0mX\u001B[0m\u001B[1;33m,\u001B[0m\u001B[0my\u001B[0m\u001B[1;33m,\u001B[0m\u001B[0mtest_size\u001B[0m\u001B[1;33m=\u001B[0m\u001B[1;36m0.2\u001B[0m\u001B[1;33m)\u001B[0m\u001B[1;33m\u001B[0m\u001B[1;33m\u001B[0m\u001B[0m\n\u001B[0;32m     22\u001B[0m \u001B[1;32mimport\u001B[0m \u001B[0mtensorflow\u001B[0m \u001B[1;32mas\u001B[0m \u001B[0mtf\u001B[0m\u001B[1;33m\u001B[0m\u001B[1;33m\u001B[0m\u001B[0m\n\u001B[1;32m---> 23\u001B[1;33m \u001B[0mfeature_columns\u001B[0m \u001B[1;33m=\u001B[0m \u001B[0mtf\u001B[0m\u001B[1;33m.\u001B[0m\u001B[0mcompat\u001B[0m\u001B[1;33m.\u001B[0m\u001B[0mv1\u001B[0m\u001B[1;33m.\u001B[0m\u001B[0mcontrib\u001B[0m\u001B[1;33m.\u001B[0m\u001B[0mlearn\u001B[0m\u001B[1;33m.\u001B[0m\u001B[0minfer_real_valued_columns_from_input\u001B[0m\u001B[1;33m(\u001B[0m\u001B[0mX_train\u001B[0m\u001B[1;33m)\u001B[0m\u001B[1;33m\u001B[0m\u001B[1;33m\u001B[0m\u001B[0m\n\u001B[0m\u001B[0;32m     24\u001B[0m dnn_clf = tf.contrib.learn.DNNClassifier(hidden_units=[300, 100], n_classes=10,\n\u001B[0;32m     25\u001B[0m feature_columns=feature_columns)\n",
      "\u001B[1;31mAttributeError\u001B[0m: module 'tensorflow._api.v2.compat.v1' has no attribute 'contrib'"
     ]
    }
   ],
   "source": [
    "#.........................神经网络\n",
    "#.........................tf的更新使得该书的价值降低很多，【待补充】\n",
    "# 人工神经网络（ANN）\n",
    "# 单层感知器【以前理解的神经元，LTU：线性阈值】\n",
    "import numpy as np\n",
    "from sklearn.datasets import load_iris\n",
    "from sklearn.linear_model import Perceptron\n",
    "iris = load_iris()\n",
    "X = iris.data[:, (2, 3)] # 花瓣长度，宽度\n",
    "y = (iris.target == 0).astype(np.int)\n",
    "# sklearn提供了一个感知器类，以下实现了一个LTU网络。不输出概率\n",
    "# 感知器学习算法类似于随机梯度下降\n",
    "per_clf = Perceptron(random_state=42)\n",
    "per_clf.fit(X, y)\n",
    "y_pred = per_clf.predict([[2, 0.5]])\n",
    "# 多层感知器（MLP）\n",
    "# 单层有比较大的局限性，很多问题解决不了\n",
    "# 输入层（变量）、隐含层（多个隐含层称为深度神经网络DNN）、输出层\n",
    "# ReLU函数：hwb(x)=max(x*w+b,0)。虽然在0处不能求导，但是实践中效果还行\n",
    "#...用tensorFlow高级API训练MLP\n",
    "#...contri已经弃用，代码运行错误\n",
    "# 两个隐含层，分别为300和100；激活函数是Relu，损失函数是交叉熵\n",
    "from sklearn.model_selection import train_test_split\n",
    "X_train, X_test, y_train, y_test=train_test_split(X,y,test_size=0.2)\n",
    "import tensorflow as tf\n",
    "feature_columns = tf.contrib.learn.infer_real_valued_columns_from_input(X_train)\n",
    "dnn_clf = tf.contrib.learn.DNNClassifier(hidden_units=[300, 100], n_classes=10,\n",
    "feature_columns=feature_columns)\n",
    "dnn_clf.fit(x=X_train, y=y_train, batch_size=50, steps=40000)"
   ]
  },
  {
   "cell_type": "code",
   "execution_count": null,
   "outputs": [],
   "source": [
    "# 参数：\n",
    "# 隐含层，一般只需要1-2层即可\n",
    "# 每层神经元数量，这个不确定，可以设置较多，然后采取早停法\n",
    "# 激活函数：大多数情况可选择ReLU，效果较好且计算较快；对于回归任务，可以不用激活函数\n",
    "# 由于tf的更新，原案例不适用，待补充"
   ],
   "metadata": {
    "collapsed": false,
    "pycharm": {
     "name": "#%%\n"
    }
   }
  },
  {
   "cell_type": "code",
   "execution_count": null,
   "outputs": [],
   "source": [
    "# 深层神经网络\n",
    "# 问题1：梯度消失（反向传播，层数过多时，梯度往往会越来越小，低层权重基本不变，达不到良好收敛）\n",
    "# 问题2：梯度爆炸，某些情况下，梯度越来越大，算法发散，如循环神经网络\n",
    "# 上述两个问题是激活函数导致的（文献支撑），S型函数效果不佳\n",
    "\n",
    "\n",
    "\n",
    "\n",
    "\n",
    "\n"
   ],
   "metadata": {
    "collapsed": false,
    "pycharm": {
     "name": "#%%\n"
    }
   }
  }
 ],
 "metadata": {
  "kernelspec": {
   "display_name": "PyCharm (Not_Scrapy)",
   "language": "python",
   "name": "pycharm-668536be"
  },
  "language_info": {
   "codemirror_mode": {
    "name": "ipython",
    "version": 2
   },
   "file_extension": ".py",
   "mimetype": "text/x-python",
   "name": "python",
   "nbconvert_exporter": "python",
   "pygments_lexer": "ipython2",
   "version": "2.7.6"
  }
 },
 "nbformat": 4,
 "nbformat_minor": 0
}