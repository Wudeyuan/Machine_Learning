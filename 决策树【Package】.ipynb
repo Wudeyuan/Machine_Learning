{
 "cells": [
  {
   "cell_type": "code",
   "execution_count": 6,
   "metadata": {
    "collapsed": true
   },
   "outputs": [
    {
     "name": "stdout",
     "output_type": "stream",
     "text": [
      "预测类别的概率： [[0.         0.90740741 0.09259259]]\n",
      "预测类别： [1]\n"
     ]
    }
   ],
   "source": [
    "#..........................案例1:\n",
    "#.......................... 分类、回归：决策树\n",
    "# 决策树：多分类\n",
    "from sklearn.datasets import load_iris\n",
    "from sklearn.tree import DecisionTreeClassifier\n",
    "iris = load_iris()\n",
    "X = iris.data[:, 2:] # petal length and width y = iris.target\n",
    "y = iris[\"target\"]\n",
    "tree_clf = DecisionTreeClassifier(max_depth=2)\n",
    "tree_clf.fit(X, y)\n",
    "# 决策树：可视化\n",
    "# https://graphviz.gitlab.io/_pages/Download/Download_windows.html\n",
    "# 安装并配置系统环境\n",
    "from sklearn.tree import export_graphviz\n",
    "file=r'C:\\Users\\Wudey\\Desktop\\iris.dot'\n",
    "export_graphviz(\n",
    "    tree_clf,\n",
    "    out_file=file,\n",
    "    feature_names=iris.feature_names[2:],\n",
    "    class_names=iris.target_names,\n",
    "    rounded=True,\n",
    "    filled=True\n",
    "    ) \n",
    "# cmd: dot -Tpng iris.dot -o iris_tree.png\n",
    "# 图形，value：诉你这个节点对于每一个类别的样例有多少个\n",
    "# 图形，Gini：用于测量它的纯度：如果一个节点包含的所有训练样例全都是同一类别的，我们就说这个节点是纯的（ Gini=0 ）\n",
    "# Gini(i)=1-ΣP(i,k)^2，P(i,k)是第i个节点中训练实例为的k类实例的比例\n",
    "# 默认CART算法（先最好的分类、然后次好...），所以图形都是二叉树，depth设置为了2，所以只有三层（0，1，2）\n",
    "# 也可以用熵不纯度，基于信息增益来算；大部分情况两者没有多大的差别\n",
    "# 基尼指数会趋于在树的分支中将最多的类隔离出来，而熵指数趋向于产生略微平衡一些的决策树模型\n",
    "print('预测类别的概率：',tree_clf.predict_proba([[5, 1.5]]))\n",
    "print('预测类别：',tree_clf.predict([[5, 1.5]]))"
   ]
  },
  {
   "cell_type": "code",
   "execution_count": 8,
   "outputs": [],
   "source": [
    "# 决策树回归\n",
    "from sklearn.tree import DecisionTreeRegressor\n",
    "tree_reg = DecisionTreeRegressor(max_depth=2)\n",
    "tree_reg.fit(X, y)\n",
    "file=r'C:\\Users\\Wudey\\Desktop\\iris.dot'\n",
    "export_graphviz(\n",
    "    tree_reg,\n",
    "    out_file=file,\n",
    "    feature_names=iris.feature_names[2:],\n",
    "    class_names=iris.target_names,\n",
    "    rounded=True,\n",
    "    filled=True\n",
    "    ) \n",
    "# cmd: dot -Tpng iris.dot -o iris_tree.png\n",
    "# 图形：不再是预测分类，而是预测某个值，这个值是决策树类别下y的平均值\n",
    "# CART的工作原理与之前相似，不同在于之前的最小化不纯度换成了最小化MSE\n",
    "# 不设置参数，与决策树一样，容易过拟合\n",
    "# 决策树较为不稳定，可以通过PCA来预处理数据\n"
   ],
   "metadata": {
    "collapsed": false,
    "pycharm": {
     "name": "#%%\n"
    }
   }
  }
 ],
 "metadata": {
  "kernelspec": {
   "display_name": "PyCharm (Not_Scrapy)",
   "language": "python",
   "name": "pycharm-668536be"
  },
  "language_info": {
   "codemirror_mode": {
    "name": "ipython",
    "version": 2
   },
   "file_extension": ".py",
   "mimetype": "text/x-python",
   "name": "python",
   "nbconvert_exporter": "python",
   "pygments_lexer": "ipython2",
   "version": "2.7.6"
  }
 },
 "nbformat": 4,
 "nbformat_minor": 0
}