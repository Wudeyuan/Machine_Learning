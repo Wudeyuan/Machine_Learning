{
 "cells": [
  {
   "cell_type": "code",
   "execution_count": 1,
   "metadata": {
    "collapsed": true
   },
   "outputs": [
    {
     "data": {
      "text/plain": "array([1.])"
     },
     "execution_count": 1,
     "metadata": {},
     "output_type": "execute_result"
    }
   ],
   "source": [
    "#..........................案例1:\n",
    "#.......................... 分类[]：SVM\n",
    "#...........SVM的核的详细一点的信息见书籍Hands-On Machine...\n",
    "#...........支持向量机（SVM）是个非常强大并且有多种功能的机器学习模型，能够做线性或者非线性的分类，回归，甚至异常值检测。\n",
    "#...........SVM 特别适合应用于复杂但中小规模数据集的分类问题。\n",
    "#.....SVM对标准化等敏感，标准化可能可以改善分类\n",
    "#.....数据可能不是线性可分，引入惩罚系数c，较小的c会导致更宽的“街道”，更多的违规\n",
    "# 线性支持向量机（数据集大，优先尝试）\n",
    "import numpy as np\n",
    "from sklearn import datasets\n",
    "from sklearn.pipeline import Pipeline\n",
    "from sklearn.preprocessing import StandardScaler\n",
    "from sklearn.svm import LinearSVC # 线性支持向量机\n",
    "# SGDClassifier(loss=\"hinge\", alpha=1/(m*C))也是一种选择，在大数据上的时候\n",
    "# SVC类，使用 SVC(kernel=\"linear\", C=1)。在大数据中会很慢\n",
    "iris = datasets.load_iris()\n",
    "X = iris[\"data\"][:, (2, 3)] # petal length, petal width\n",
    "y = (iris[\"target\"] == 2).astype(np.float64) # Iris-Virginica\n",
    "svm_clf = Pipeline([\n",
    "    (\"scaler\", StandardScaler()), # LinearSVC需要标准化\n",
    "    (\"linear_svc\", LinearSVC(C=1, loss=\"hinge\",dual=False))]) # hinge损失函数，除非特征数比样本量多，否则dual设为False\n",
    "svm_clf.fit(X, y)\n",
    "svm_clf.predict([[5.5, 1.7]])"
   ]
  },
  {
   "cell_type": "code",
   "execution_count": 3,
   "outputs": [
    {
     "data": {
      "text/plain": "array([1.])"
     },
     "execution_count": 3,
     "metadata": {},
     "output_type": "execute_result"
    }
   ],
   "source": [
    "# 非线性支持向量机分类\n",
    "from sklearn.datasets import make_moons\n",
    "from sklearn.pipeline import Pipeline\n",
    "from sklearn.preprocessing import PolynomialFeatures\n",
    "polynomial_svm_clf = Pipeline([\n",
    "    (\"poly_features\", PolynomialFeatures(degree=3)),\n",
    "    (\"scaler\", StandardScaler()),\n",
    "    (\"svm_clf\", LinearSVC(C=10, loss=\"hinge\"))])\n",
    "polynomial_svm_clf.fit(X, y) # 对X进行多项式变换，在SVM分类\n",
    "polynomial_svm_clf.predict([[5.5, 1.7]])\n",
    "# 多项式核\n",
    "# 分割线变成多项式\n",
    "# 添加多项式特征很容易实现，不仅仅在 SVM，在各种机器学习算法都有不错的表现，但是会使模型变得慢。\n",
    "# “核技巧”（kernel trick）可以解决这个问题。poly核\n",
    "from sklearn.svm import SVC\n",
    "poly_kernel_svm_clf = Pipeline([\n",
    "    (\"scaler\", StandardScaler()),\n",
    "    (\"svm_clf\", SVC(kernel=\"poly\", degree=3, coef0=1, C=5))])\n",
    "poly_kernel_svm_clf.fit(X, y)\n",
    "# 高斯核（数据集不大，优先尝试）\n",
    "# 增加相似特征，通过高斯分布来“聚类”，使数据变得线性可分\n",
    "rbf_kernel_svm_clf = Pipeline([\n",
    "    (\"scaler\", StandardScaler()),\n",
    "    (\"svm_clf\", SVC(kernel=\"rbf\", gamma=5, C=0.001))]) # gamma越大，越容易过拟合，C类似\n",
    "rbf_kernel_svm_clf.fit(X, y)\n",
    "# 在对文本文档或者 DNA 序列进行分类时，有时会使用字符串核（String kernels）"
   ],
   "metadata": {
    "collapsed": false,
    "pycharm": {
     "name": "#%%\n"
    }
   }
  },
  {
   "cell_type": "code",
   "execution_count": 5,
   "outputs": [
    {
     "data": {
      "text/plain": "LinearSVR(C=1.0, dual=True, epsilon=1.5, fit_intercept=True,\n          intercept_scaling=1.0, loss='epsilon_insensitive', max_iter=1000,\n          random_state=None, tol=0.5, verbose=0)"
     },
     "execution_count": 5,
     "metadata": {},
     "output_type": "execute_result"
    }
   ],
   "source": [
    "# SVM回归\n",
    "# SVM回归与SVM分类正好相反，SVM回归是找最远点\n",
    "# 训练数据需要被中心化和标准化\n",
    "from sklearn.svm import LinearSVR\n",
    "svm_reg = LinearSVR(epsilon=1.5,tol=0.5) # 尽可能找最大间隔，间隔由tol决定\n",
    "svm_reg.fit(X, y)\n",
    "# SVM多项式回归\n",
    "from sklearn.svm import SVR\n",
    "svm_poly_reg = SVR(kernel=\"poly\", degree=2, C=100, epsilon=0.1)\n",
    "svm_poly_reg.fit(X, y)\n",
    "# 我们也可以实现在线核化的 SVM。例如使用“增量和递减 SVM 学习”或者“在线和主动的快速核分类器”。\n",
    "# 但是，这些都是用 Matlab 和 C++ 实现的。对于大规模的非线性问题，你可能需要考虑使用神经网络"
   ],
   "metadata": {
    "collapsed": false,
    "pycharm": {
     "name": "#%%\n"
    }
   }
  }
 ],
 "metadata": {
  "kernelspec": {
   "display_name": "PyCharm (Not_Scrapy)",
   "language": "python",
   "name": "pycharm-668536be"
  },
  "language_info": {
   "codemirror_mode": {
    "name": "ipython",
    "version": 2
   },
   "file_extension": ".py",
   "mimetype": "text/x-python",
   "name": "python",
   "nbconvert_exporter": "python",
   "pygments_lexer": "ipython2",
   "version": "2.7.6"
  }
 },
 "nbformat": 4,
 "nbformat_minor": 0
}