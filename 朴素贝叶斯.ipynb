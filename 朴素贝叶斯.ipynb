{
 "cells": [
  {
   "cell_type": "code",
   "execution_count": 26,
   "metadata": {
    "collapsed": true
   },
   "outputs": [
    {
     "name": "stdout",
     "output_type": "stream",
     "text": [
      "两个函数的作用结果 [0, 1, 0, 0, 0, 1, 0, 0, 0, 0, 0, 1, 0, 0, 0, 1, 0, 0, 1, 0, 0, 0, 0, 1, 1, 0, 0, 0, 0, 0, 0, 0]\n",
      "[-2.56494936 -2.56494936 -3.25809654 -3.25809654 -2.56494936 -1.87180218\n",
      " -2.56494936 -2.56494936 -3.25809654 -3.25809654 -2.56494936 -2.56494936\n",
      " -2.56494936 -2.56494936 -2.56494936 -2.56494936 -2.56494936 -3.25809654\n",
      " -2.56494936 -3.25809654 -2.56494936 -2.56494936 -3.25809654 -2.56494936\n",
      " -2.56494936 -2.15948425 -2.56494936 -3.25809654 -3.25809654 -3.25809654\n",
      " -3.25809654 -2.56494936] [-3.04452244 -3.04452244 -2.35137526 -2.35137526 -2.35137526 -3.04452244\n",
      " -3.04452244 -3.04452244 -2.35137526 -2.35137526 -3.04452244 -3.04452244\n",
      " -3.04452244 -3.04452244 -2.35137526 -1.94591015 -3.04452244 -1.94591015\n",
      " -3.04452244 -1.65822808 -3.04452244 -3.04452244 -2.35137526 -3.04452244\n",
      " -3.04452244 -2.35137526 -3.04452244 -2.35137526 -2.35137526 -2.35137526\n",
      " -2.35137526 -3.04452244] 0.5\n",
      "['love', 'my', 'dalmation'] classified as:  0\n"
     ]
    }
   ],
   "source": [
    "#..........................案例1:\n",
    "#.......................... 理解朴素贝叶斯\n",
    "# 之所以叫朴素贝叶斯，是因为假设很原始\n",
    "# 假设各个特征相互独立；各个特征同等重要。（虽然事实并非如此，但是效果不错）\n",
    "# 贝叶斯的精髓在于求p(A|B)变成求p(B|A)\n",
    "postingList=[['my', 'dog', 'has', 'flea', 'problems', 'help', 'please'],\n",
    "                 ['maybe', 'not', 'take', 'him', 'to', 'dog', 'park', 'stupid'],\n",
    "                 ['my', 'dalmation', 'is', 'so', 'cute', 'I', 'love', 'him'],\n",
    "                 ['stop', 'posting', 'stupid', 'worthless', 'garbage'],\n",
    "                 ['mr', 'licks', 'ate', 'my', 'steak', 'how', 'to', 'stop', 'him'],\n",
    "                 ['quit', 'buying', 'worthless', 'dog', 'food', 'stupid']]\n",
    "classVec = [0,1,0,1,0,1]    #1表示侮辱性的，0表示非侮辱性的\n",
    "# 收集所有词构造unique列表（假设：相互独立）\n",
    "def createVocabList(dataSet):\n",
    "    vocabSet = set([])  #create empty set\n",
    "    for document in dataSet:\n",
    "        vocabSet = vocabSet | set(document) #union of the two sets\n",
    "    return list(vocabSet)\n",
    "# 查看inputSet的每个词是否在vocabList中\n",
    "def setOfWords2Vec(vocabList, inputSet):\n",
    "    returnVec = [0]*len(vocabList)\n",
    "    for word in inputSet:\n",
    "        if word in vocabList:\n",
    "            returnVec[vocabList.index(word)] = 1 # 在的改为1，不在保持为0\n",
    "        else: print(\"the word: %s is not in my Vocabulary!\" % word)\n",
    "    return returnVec\n",
    "# 修正setOfWords2Vec，以下代码并没有用修正的模型，以后可以考虑用这个\n",
    "def bagOfWords2VecMN(vocabList, inputSet):\n",
    "    returnVec = [0]*len(vocabList)\n",
    "    for word in inputSet:\n",
    "        if word in vocabList:\n",
    "            returnVec[vocabList.index(word)] += 1 # 可能某些词多次出现\n",
    "    return returnVec\n",
    "print(\"两个函数的作用结果\",setOfWords2Vec(createVocabList(postingList),postingList[0]))\n",
    "# 寻找侮辱性词汇\n",
    "# 原理：侮辱性语句中，出现概率高的词很有可能具有侮辱的代表性\n",
    "# 贝叶斯：给定侮辱性/非侮辱性的文档，在文档中找词出现的可能性（条件概率）\n",
    "import numpy as np\n",
    "def trainNB0(trainMatrix,trainCategory):\n",
    "    numTrainDocs = len(trainMatrix)\n",
    "    numWords = len(trainMatrix[0])\n",
    "    pAbusive = sum(trainCategory)/float(numTrainDocs) # 侮辱性的概率\n",
    "    # 后续计算p(w|c)=p(w1|c)...p(wn|c)时，避免0概率的影响，取np.ones()，w代表侮辱性句子，wi代表侮辱性词汇\n",
    "    p0Num = np.ones(numWords); p1Num = np.ones(numWords)\n",
    "    p0Denom = 2.0; p1Denom = 2.0\n",
    "    for i in range(numTrainDocs):\n",
    "        if trainCategory[i] == 1:\n",
    "            p1Num += trainMatrix[i] # 词典中，单个侮辱性词出现的个数\n",
    "            p1Denom += sum(trainMatrix[i]) # 词典中，侮辱性语句所有词出现的总数\n",
    "        else:\n",
    "            p0Num += trainMatrix[i]\n",
    "            p0Denom += sum(trainMatrix[i])\n",
    "    p1Vect = np.log(p1Num/p1Denom)  # 取log，概率不至于太小\n",
    "    p0Vect = np.log(p0Num/p0Denom)\n",
    "    return p0Vect,p1Vect,pAbusive\n",
    "Voclist=createVocabList(postingList)\n",
    "trainMat=[]\n",
    "# 看哪些字出现频率较高会被定义为侮辱性的或者非侮辱性的\n",
    "for i in postingList:\n",
    "    trainMat.append(setOfWords2Vec(Voclist,i))\n",
    "p0V,p1V,pAB=trainNB0(trainMat,classVec)\n",
    "print(p0V,p1V,pAB)\n",
    "# p1V 给定文档类别（侮辱性）下词汇表中侮辱性/非侮辱性单词出现的概率。概率越大，（且显著大于出现在非侮辱性语句中的概率），越可能代表侮辱性\n",
    "\n",
    "# 测试\n",
    "# 给定一个句子，判断每个词全在侮辱性环境里的概率\n",
    "def classifyNB(vec2Classify, p0Vec, p1Vec, pClass1):\n",
    "    p1 = sum(vec2Classify * p1Vec) + np.log(pClass1)    #element-wise mult\n",
    "    p0 = sum(vec2Classify * p0Vec) + np.log(1.0 - pClass1)\n",
    "    if p1 > p0:\n",
    "        return 1\n",
    "    else:\n",
    "        return 0\n",
    "testEntry = ['love', 'my', 'dalmation']\n",
    "# Voclist 训练的结果\n",
    "# p0V,p1V,pAB 训练结果的p值\n",
    "thisDoc = np.array(setOfWords2Vec(Voclist, testEntry))\n",
    "print(testEntry,'classified as: ',classifyNB(thisDoc,p0V,p1V,pAB))"
   ]
  },
  {
   "cell_type": "code",
   "execution_count": 1,
   "outputs": [],
   "source": [
    "#..........................案例1:\n",
    "#.......................... 贝叶斯应用\n",
    "#..........................处理文档的可能性不大，有空再展开\n"
   ],
   "metadata": {
    "collapsed": false,
    "pycharm": {
     "name": "#%%\n"
    }
   }
  }
 ],
 "metadata": {
  "kernelspec": {
   "display_name": "PyCharm (Not_Scrapy)",
   "language": "python",
   "name": "pycharm-668536be"
  },
  "language_info": {
   "codemirror_mode": {
    "name": "ipython",
    "version": 2
   },
   "file_extension": ".py",
   "mimetype": "text/x-python",
   "name": "python",
   "nbconvert_exporter": "python",
   "pygments_lexer": "ipython2",
   "version": "3.7.4-final"
  }
 },
 "nbformat": 4,
 "nbformat_minor": 0
}